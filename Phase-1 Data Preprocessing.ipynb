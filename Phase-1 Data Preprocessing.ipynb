{
 "cells": [
  {
   "cell_type": "markdown",
   "id": "b37ab2f8-bbf4-4251-9f50-ae1f148768d0",
   "metadata": {},
   "source": [
    "#     Predicting Electric Vehicle Base MSRP Using Supervised Regression"
   ]
  },
  {
   "cell_type": "markdown",
   "id": "e67cb7ad-d7e4-4ceb-8926-5581bed02c73",
   "metadata": {},
   "source": [
    "## Objective\n",
    "* The aim of this project is to develop a supervised regression model to predict the Base MSRP (Manufacturer’s Suggested Retail Price) of electric vehicles (EVs) based on key technical and categorical features.\n",
    "* By analyzing historical data, we aim to uncover how factors like electric range, battery capacity, and model year influence EV pricing.\n",
    "* These insights can support better decision-making for:\n",
    "(i) EV Manufacturers – Optimizing pricing strategies\n",
    "(ii) Policymakers – Evaluating and refining EV incentive programs\n",
    "(iii) Consumers & Market Analysts – Understanding value, trends, and competitiveness\n"
   ]
  },
  {
   "cell_type": "markdown",
   "id": "0166b99e-62df-4c98-bb4c-86a44cad31a8",
   "metadata": {},
   "source": [
    "## 1. Data Preprocessing"
   ]
  },
  {
   "cell_type": "code",
   "execution_count": 25,
   "id": "b3398b53-de99-491e-be3f-fb017c8fc73a",
   "metadata": {},
   "outputs": [],
   "source": [
    "# Importing libraries\n",
    "import numpy as np\n",
    "import pandas as pd\n",
    "import seaborn as sns\n",
    "import matplotlib.pyplot as plt\n",
    "from sklearn.feature_selection import SelectKBest, f_regression\n",
    "from sklearn.model_selection import train_test_split\n",
    "from sklearn.preprocessing import StandardScaler\n",
    "from sklearn.linear_model import LinearRegression \n",
    "from sklearn.ensemble import RandomForestRegressor, GradientBoostingRegressor\n",
    "from sklearn.svm import SVR  \n",
    "from sklearn.neural_network import MLPRegressor \n",
    "from sklearn.metrics import r2_score, mean_squared_error, mean_absolute_error  \n",
    "from sklearn.model_selection import GridSearchCV \n",
    "from sklearn.impute import SimpleImputer\n",
    "from sklearn.pipeline import Pipeline \n",
    "import joblib"
   ]
  },
  {
   "cell_type": "code",
   "execution_count": 29,
   "id": "e85a591e-c0b9-4494-847c-79ff99a9b93e",
   "metadata": {},
   "outputs": [],
   "source": [
    "# to deactivate warnings\n",
    "import warnings\n",
    "warnings.filterwarnings('ignore')"
   ]
  },
  {
   "cell_type": "code",
   "execution_count": 30,
   "id": "8fd368ad-acd2-4617-9b14-22dfe9b528c9",
   "metadata": {},
   "outputs": [],
   "source": [
    "# Load dataset\n",
    "data = pd.read_csv(r\"C:\\Users\\aksha\\Downloads\\Electric_Vehicle_Population_Data (1).csv\")"
   ]
  },
  {
   "cell_type": "code",
   "execution_count": 31,
   "id": "e20af390-042f-4665-8d65-d7cf09198075",
   "metadata": {},
   "outputs": [],
   "source": [
    "df = pd.DataFrame(data)"
   ]
  },
  {
   "cell_type": "code",
   "execution_count": 32,
   "id": "74da86c9-9189-429b-a71d-f57e90a0ca3d",
   "metadata": {},
   "outputs": [
    {
     "data": {
      "text/html": [
       "<div>\n",
       "<style scoped>\n",
       "    .dataframe tbody tr th:only-of-type {\n",
       "        vertical-align: middle;\n",
       "    }\n",
       "\n",
       "    .dataframe tbody tr th {\n",
       "        vertical-align: top;\n",
       "    }\n",
       "\n",
       "    .dataframe thead th {\n",
       "        text-align: right;\n",
       "    }\n",
       "</style>\n",
       "<table border=\"1\" class=\"dataframe\">\n",
       "  <thead>\n",
       "    <tr style=\"text-align: right;\">\n",
       "      <th></th>\n",
       "      <th>VIN (1-10)</th>\n",
       "      <th>County</th>\n",
       "      <th>City</th>\n",
       "      <th>State</th>\n",
       "      <th>Postal Code</th>\n",
       "      <th>Model Year</th>\n",
       "      <th>Make</th>\n",
       "      <th>Model</th>\n",
       "      <th>Electric Vehicle Type</th>\n",
       "      <th>Clean Alternative Fuel Vehicle (CAFV) Eligibility</th>\n",
       "      <th>Electric Range</th>\n",
       "      <th>Base MSRP</th>\n",
       "      <th>Legislative District</th>\n",
       "      <th>DOL Vehicle ID</th>\n",
       "      <th>Vehicle Location</th>\n",
       "      <th>Electric Utility</th>\n",
       "      <th>2020 Census Tract</th>\n",
       "    </tr>\n",
       "  </thead>\n",
       "  <tbody>\n",
       "    <tr>\n",
       "      <th>0</th>\n",
       "      <td>5YJ3E1EB6K</td>\n",
       "      <td>King</td>\n",
       "      <td>Seattle</td>\n",
       "      <td>WA</td>\n",
       "      <td>98178.0</td>\n",
       "      <td>2019</td>\n",
       "      <td>TESLA</td>\n",
       "      <td>MODEL 3</td>\n",
       "      <td>Battery Electric Vehicle (BEV)</td>\n",
       "      <td>Clean Alternative Fuel Vehicle Eligible</td>\n",
       "      <td>220.0</td>\n",
       "      <td>0.0</td>\n",
       "      <td>37.0</td>\n",
       "      <td>101250425</td>\n",
       "      <td>POINT (-122.23825 47.49461)</td>\n",
       "      <td>CITY OF SEATTLE - (WA)|CITY OF TACOMA - (WA)</td>\n",
       "      <td>5.303301e+10</td>\n",
       "    </tr>\n",
       "    <tr>\n",
       "      <th>1</th>\n",
       "      <td>5YJYGAEE5M</td>\n",
       "      <td>Yakima</td>\n",
       "      <td>Selah</td>\n",
       "      <td>WA</td>\n",
       "      <td>98942.0</td>\n",
       "      <td>2021</td>\n",
       "      <td>TESLA</td>\n",
       "      <td>MODEL Y</td>\n",
       "      <td>Battery Electric Vehicle (BEV)</td>\n",
       "      <td>Eligibility unknown as battery range has not b...</td>\n",
       "      <td>0.0</td>\n",
       "      <td>0.0</td>\n",
       "      <td>15.0</td>\n",
       "      <td>224162858</td>\n",
       "      <td>POINT (-120.53145 46.65405)</td>\n",
       "      <td>PACIFICORP</td>\n",
       "      <td>5.307700e+10</td>\n",
       "    </tr>\n",
       "    <tr>\n",
       "      <th>2</th>\n",
       "      <td>5YJSA1E65N</td>\n",
       "      <td>Yakima</td>\n",
       "      <td>Granger</td>\n",
       "      <td>WA</td>\n",
       "      <td>98932.0</td>\n",
       "      <td>2022</td>\n",
       "      <td>TESLA</td>\n",
       "      <td>MODEL S</td>\n",
       "      <td>Battery Electric Vehicle (BEV)</td>\n",
       "      <td>Eligibility unknown as battery range has not b...</td>\n",
       "      <td>0.0</td>\n",
       "      <td>0.0</td>\n",
       "      <td>15.0</td>\n",
       "      <td>187279214</td>\n",
       "      <td>POINT (-120.1871 46.33949)</td>\n",
       "      <td>PACIFICORP</td>\n",
       "      <td>5.307700e+10</td>\n",
       "    </tr>\n",
       "    <tr>\n",
       "      <th>3</th>\n",
       "      <td>5YJ3E1EBXN</td>\n",
       "      <td>King</td>\n",
       "      <td>Bellevue</td>\n",
       "      <td>WA</td>\n",
       "      <td>98004.0</td>\n",
       "      <td>2022</td>\n",
       "      <td>TESLA</td>\n",
       "      <td>MODEL 3</td>\n",
       "      <td>Battery Electric Vehicle (BEV)</td>\n",
       "      <td>Eligibility unknown as battery range has not b...</td>\n",
       "      <td>0.0</td>\n",
       "      <td>0.0</td>\n",
       "      <td>41.0</td>\n",
       "      <td>219428079</td>\n",
       "      <td>POINT (-122.1872 47.61001)</td>\n",
       "      <td>PUGET SOUND ENERGY INC||CITY OF TACOMA - (WA)</td>\n",
       "      <td>5.303302e+10</td>\n",
       "    </tr>\n",
       "    <tr>\n",
       "      <th>4</th>\n",
       "      <td>JM3KKEHA8S</td>\n",
       "      <td>Thurston</td>\n",
       "      <td>Yelm</td>\n",
       "      <td>WA</td>\n",
       "      <td>98597.0</td>\n",
       "      <td>2025</td>\n",
       "      <td>MAZDA</td>\n",
       "      <td>CX-90</td>\n",
       "      <td>Plug-in Hybrid Electric Vehicle (PHEV)</td>\n",
       "      <td>Not eligible due to low battery range</td>\n",
       "      <td>26.0</td>\n",
       "      <td>0.0</td>\n",
       "      <td>2.0</td>\n",
       "      <td>277791643</td>\n",
       "      <td>POINT (-122.60735 46.94239)</td>\n",
       "      <td>PUGET SOUND ENERGY INC</td>\n",
       "      <td>5.306701e+10</td>\n",
       "    </tr>\n",
       "  </tbody>\n",
       "</table>\n",
       "</div>"
      ],
      "text/plain": [
       "   VIN (1-10)    County      City State  Postal Code  Model Year   Make  \\\n",
       "0  5YJ3E1EB6K      King   Seattle    WA      98178.0        2019  TESLA   \n",
       "1  5YJYGAEE5M    Yakima     Selah    WA      98942.0        2021  TESLA   \n",
       "2  5YJSA1E65N    Yakima   Granger    WA      98932.0        2022  TESLA   \n",
       "3  5YJ3E1EBXN      King  Bellevue    WA      98004.0        2022  TESLA   \n",
       "4  JM3KKEHA8S  Thurston      Yelm    WA      98597.0        2025  MAZDA   \n",
       "\n",
       "     Model                   Electric Vehicle Type  \\\n",
       "0  MODEL 3          Battery Electric Vehicle (BEV)   \n",
       "1  MODEL Y          Battery Electric Vehicle (BEV)   \n",
       "2  MODEL S          Battery Electric Vehicle (BEV)   \n",
       "3  MODEL 3          Battery Electric Vehicle (BEV)   \n",
       "4    CX-90  Plug-in Hybrid Electric Vehicle (PHEV)   \n",
       "\n",
       "   Clean Alternative Fuel Vehicle (CAFV) Eligibility  Electric Range  \\\n",
       "0            Clean Alternative Fuel Vehicle Eligible           220.0   \n",
       "1  Eligibility unknown as battery range has not b...             0.0   \n",
       "2  Eligibility unknown as battery range has not b...             0.0   \n",
       "3  Eligibility unknown as battery range has not b...             0.0   \n",
       "4              Not eligible due to low battery range            26.0   \n",
       "\n",
       "   Base MSRP  Legislative District  DOL Vehicle ID  \\\n",
       "0        0.0                  37.0       101250425   \n",
       "1        0.0                  15.0       224162858   \n",
       "2        0.0                  15.0       187279214   \n",
       "3        0.0                  41.0       219428079   \n",
       "4        0.0                   2.0       277791643   \n",
       "\n",
       "              Vehicle Location                               Electric Utility  \\\n",
       "0  POINT (-122.23825 47.49461)   CITY OF SEATTLE - (WA)|CITY OF TACOMA - (WA)   \n",
       "1  POINT (-120.53145 46.65405)                                     PACIFICORP   \n",
       "2   POINT (-120.1871 46.33949)                                     PACIFICORP   \n",
       "3   POINT (-122.1872 47.61001)  PUGET SOUND ENERGY INC||CITY OF TACOMA - (WA)   \n",
       "4  POINT (-122.60735 46.94239)                         PUGET SOUND ENERGY INC   \n",
       "\n",
       "   2020 Census Tract  \n",
       "0       5.303301e+10  \n",
       "1       5.307700e+10  \n",
       "2       5.307700e+10  \n",
       "3       5.303302e+10  \n",
       "4       5.306701e+10  "
      ]
     },
     "execution_count": 32,
     "metadata": {},
     "output_type": "execute_result"
    }
   ],
   "source": [
    "df.head()"
   ]
  },
  {
   "cell_type": "code",
   "execution_count": 33,
   "id": "fbca3d4f-dee4-468d-afd8-75b80cdb263f",
   "metadata": {},
   "outputs": [
    {
     "name": "stdout",
     "output_type": "stream",
     "text": [
      "Shape of the dataset is: \n"
     ]
    },
    {
     "data": {
      "text/plain": [
       "(246137, 17)"
      ]
     },
     "execution_count": 33,
     "metadata": {},
     "output_type": "execute_result"
    }
   ],
   "source": [
    "print(\"Shape of the dataset is: \")\n",
    "df.shape"
   ]
  },
  {
   "cell_type": "code",
   "execution_count": 34,
   "id": "51bb80f7-019b-41de-ac18-d0dee1d4de7b",
   "metadata": {},
   "outputs": [
    {
     "name": "stdout",
     "output_type": "stream",
     "text": [
      "Columns: \n"
     ]
    },
    {
     "data": {
      "text/plain": [
       "Index(['VIN (1-10)', 'County', 'City', 'State', 'Postal Code', 'Model Year',\n",
       "       'Make', 'Model', 'Electric Vehicle Type',\n",
       "       'Clean Alternative Fuel Vehicle (CAFV) Eligibility', 'Electric Range',\n",
       "       'Base MSRP', 'Legislative District', 'DOL Vehicle ID',\n",
       "       'Vehicle Location', 'Electric Utility', '2020 Census Tract'],\n",
       "      dtype='object')"
      ]
     },
     "execution_count": 34,
     "metadata": {},
     "output_type": "execute_result"
    }
   ],
   "source": [
    "print(\"Columns: \")\n",
    "df.columns"
   ]
  },
  {
   "cell_type": "code",
   "execution_count": 35,
   "id": "5c679f81-f7dd-4db1-9ad9-aea8047d41d5",
   "metadata": {},
   "outputs": [
    {
     "name": "stdout",
     "output_type": "stream",
     "text": [
      "Dataset Information:\n",
      "\t\n",
      "<class 'pandas.core.frame.DataFrame'>\n",
      "RangeIndex: 246137 entries, 0 to 246136\n",
      "Data columns (total 17 columns):\n",
      " #   Column                                             Non-Null Count   Dtype  \n",
      "---  ------                                             --------------   -----  \n",
      " 0   VIN (1-10)                                         246137 non-null  object \n",
      " 1   County                                             246133 non-null  object \n",
      " 2   City                                               246133 non-null  object \n",
      " 3   State                                              246137 non-null  object \n",
      " 4   Postal Code                                        246133 non-null  float64\n",
      " 5   Model Year                                         246137 non-null  int64  \n",
      " 6   Make                                               246137 non-null  object \n",
      " 7   Model                                              246137 non-null  object \n",
      " 8   Electric Vehicle Type                              246137 non-null  object \n",
      " 9   Clean Alternative Fuel Vehicle (CAFV) Eligibility  246137 non-null  object \n",
      " 10  Electric Range                                     246120 non-null  float64\n",
      " 11  Base MSRP                                          246120 non-null  float64\n",
      " 12  Legislative District                               245597 non-null  float64\n",
      " 13  DOL Vehicle ID                                     246137 non-null  int64  \n",
      " 14  Vehicle Location                                   246126 non-null  object \n",
      " 15  Electric Utility                                   246133 non-null  object \n",
      " 16  2020 Census Tract                                  246133 non-null  float64\n",
      "dtypes: float64(5), int64(2), object(10)\n",
      "memory usage: 31.9+ MB\n"
     ]
    }
   ],
   "source": [
    "print(\"Dataset Information:\")\n",
    "print(\"\\t\")\n",
    "df.info()"
   ]
  },
  {
   "cell_type": "code",
   "execution_count": 39,
   "id": "441b51cd-d4c5-4e2b-9e11-7f5b52f33704",
   "metadata": {},
   "outputs": [
    {
     "name": "stdout",
     "output_type": "stream",
     "text": [
      "Summary Statistics: \n",
      "\t\n"
     ]
    },
    {
     "data": {
      "text/html": [
       "<div>\n",
       "<style scoped>\n",
       "    .dataframe tbody tr th:only-of-type {\n",
       "        vertical-align: middle;\n",
       "    }\n",
       "\n",
       "    .dataframe tbody tr th {\n",
       "        vertical-align: top;\n",
       "    }\n",
       "\n",
       "    .dataframe thead th {\n",
       "        text-align: right;\n",
       "    }\n",
       "</style>\n",
       "<table border=\"1\" class=\"dataframe\">\n",
       "  <thead>\n",
       "    <tr style=\"text-align: right;\">\n",
       "      <th></th>\n",
       "      <th>Postal Code</th>\n",
       "      <th>Model Year</th>\n",
       "      <th>Electric Range</th>\n",
       "      <th>Base MSRP</th>\n",
       "      <th>Legislative District</th>\n",
       "      <th>DOL Vehicle ID</th>\n",
       "      <th>2020 Census Tract</th>\n",
       "    </tr>\n",
       "  </thead>\n",
       "  <tbody>\n",
       "    <tr>\n",
       "      <th>count</th>\n",
       "      <td>246133.000000</td>\n",
       "      <td>246137.000000</td>\n",
       "      <td>246120.000000</td>\n",
       "      <td>246120.000000</td>\n",
       "      <td>245597.000000</td>\n",
       "      <td>2.461370e+05</td>\n",
       "      <td>2.461330e+05</td>\n",
       "    </tr>\n",
       "    <tr>\n",
       "      <th>mean</th>\n",
       "      <td>98179.658481</td>\n",
       "      <td>2021.535698</td>\n",
       "      <td>44.872192</td>\n",
       "      <td>746.606188</td>\n",
       "      <td>28.871831</td>\n",
       "      <td>2.374324e+08</td>\n",
       "      <td>5.297685e+10</td>\n",
       "    </tr>\n",
       "    <tr>\n",
       "      <th>std</th>\n",
       "      <td>2494.101983</td>\n",
       "      <td>2.999144</td>\n",
       "      <td>82.913952</td>\n",
       "      <td>6987.233456</td>\n",
       "      <td>14.895938</td>\n",
       "      <td>6.719158e+07</td>\n",
       "      <td>1.580103e+09</td>\n",
       "    </tr>\n",
       "    <tr>\n",
       "      <th>min</th>\n",
       "      <td>1731.000000</td>\n",
       "      <td>2000.000000</td>\n",
       "      <td>0.000000</td>\n",
       "      <td>0.000000</td>\n",
       "      <td>1.000000</td>\n",
       "      <td>4.385000e+03</td>\n",
       "      <td>1.001020e+09</td>\n",
       "    </tr>\n",
       "    <tr>\n",
       "      <th>25%</th>\n",
       "      <td>98052.000000</td>\n",
       "      <td>2020.000000</td>\n",
       "      <td>0.000000</td>\n",
       "      <td>0.000000</td>\n",
       "      <td>17.000000</td>\n",
       "      <td>2.083391e+08</td>\n",
       "      <td>5.303301e+10</td>\n",
       "    </tr>\n",
       "    <tr>\n",
       "      <th>50%</th>\n",
       "      <td>98126.000000</td>\n",
       "      <td>2023.000000</td>\n",
       "      <td>0.000000</td>\n",
       "      <td>0.000000</td>\n",
       "      <td>32.000000</td>\n",
       "      <td>2.548460e+08</td>\n",
       "      <td>5.303303e+10</td>\n",
       "    </tr>\n",
       "    <tr>\n",
       "      <th>75%</th>\n",
       "      <td>98375.000000</td>\n",
       "      <td>2024.000000</td>\n",
       "      <td>37.000000</td>\n",
       "      <td>0.000000</td>\n",
       "      <td>42.000000</td>\n",
       "      <td>2.717319e+08</td>\n",
       "      <td>5.305307e+10</td>\n",
       "    </tr>\n",
       "    <tr>\n",
       "      <th>max</th>\n",
       "      <td>99577.000000</td>\n",
       "      <td>2026.000000</td>\n",
       "      <td>337.000000</td>\n",
       "      <td>845000.000000</td>\n",
       "      <td>49.000000</td>\n",
       "      <td>4.792548e+08</td>\n",
       "      <td>5.602100e+10</td>\n",
       "    </tr>\n",
       "  </tbody>\n",
       "</table>\n",
       "</div>"
      ],
      "text/plain": [
       "         Postal Code     Model Year  Electric Range      Base MSRP  \\\n",
       "count  246133.000000  246137.000000   246120.000000  246120.000000   \n",
       "mean    98179.658481    2021.535698       44.872192     746.606188   \n",
       "std      2494.101983       2.999144       82.913952    6987.233456   \n",
       "min      1731.000000    2000.000000        0.000000       0.000000   \n",
       "25%     98052.000000    2020.000000        0.000000       0.000000   \n",
       "50%     98126.000000    2023.000000        0.000000       0.000000   \n",
       "75%     98375.000000    2024.000000       37.000000       0.000000   \n",
       "max     99577.000000    2026.000000      337.000000  845000.000000   \n",
       "\n",
       "       Legislative District  DOL Vehicle ID  2020 Census Tract  \n",
       "count         245597.000000    2.461370e+05       2.461330e+05  \n",
       "mean              28.871831    2.374324e+08       5.297685e+10  \n",
       "std               14.895938    6.719158e+07       1.580103e+09  \n",
       "min                1.000000    4.385000e+03       1.001020e+09  \n",
       "25%               17.000000    2.083391e+08       5.303301e+10  \n",
       "50%               32.000000    2.548460e+08       5.303303e+10  \n",
       "75%               42.000000    2.717319e+08       5.305307e+10  \n",
       "max               49.000000    4.792548e+08       5.602100e+10  "
      ]
     },
     "execution_count": 39,
     "metadata": {},
     "output_type": "execute_result"
    }
   ],
   "source": [
    "print(\"Summary Statistics: \")\n",
    "print(\"\\t\")\n",
    "df.describe()"
   ]
  },
  {
   "cell_type": "code",
   "execution_count": 40,
   "id": "9c6c7613-09b4-4c5e-83b9-6bb802d0b9cf",
   "metadata": {},
   "outputs": [
    {
     "name": "stdout",
     "output_type": "stream",
     "text": [
      "Unique Values: \n",
      "\t\n"
     ]
    },
    {
     "data": {
      "text/plain": [
       "VIN (1-10)                                            14503\n",
       "County                                                  217\n",
       "City                                                    803\n",
       "State                                                    48\n",
       "Postal Code                                             993\n",
       "Model Year                                               21\n",
       "Make                                                     46\n",
       "Model                                                   174\n",
       "Electric Vehicle Type                                     2\n",
       "Clean Alternative Fuel Vehicle (CAFV) Eligibility         3\n",
       "Electric Range                                          110\n",
       "Base MSRP                                                31\n",
       "Legislative District                                     49\n",
       "DOL Vehicle ID                                       246137\n",
       "Vehicle Location                                        992\n",
       "Electric Utility                                         76\n",
       "2020 Census Tract                                      2246\n",
       "dtype: int64"
      ]
     },
     "execution_count": 40,
     "metadata": {},
     "output_type": "execute_result"
    }
   ],
   "source": [
    "print(\"Unique Values: \")\n",
    "print(\"\\t\")\n",
    "df.nunique()"
   ]
  },
  {
   "cell_type": "code",
   "execution_count": 41,
   "id": "b022bb46-7875-48b3-b22c-ba024c72c0f3",
   "metadata": {},
   "outputs": [
    {
     "name": "stdout",
     "output_type": "stream",
     "text": [
      "Missing Values:\n",
      "\t\n",
      "VIN (1-10)                                             0\n",
      "County                                                 4\n",
      "City                                                   4\n",
      "State                                                  0\n",
      "Postal Code                                            4\n",
      "Model Year                                             0\n",
      "Make                                                   0\n",
      "Model                                                  0\n",
      "Electric Vehicle Type                                  0\n",
      "Clean Alternative Fuel Vehicle (CAFV) Eligibility      0\n",
      "Electric Range                                        17\n",
      "Base MSRP                                             17\n",
      "Legislative District                                 540\n",
      "DOL Vehicle ID                                         0\n",
      "Vehicle Location                                      11\n",
      "Electric Utility                                       4\n",
      "2020 Census Tract                                      4\n",
      "dtype: int64\n"
     ]
    }
   ],
   "source": [
    "#Finding missing values\n",
    "missing_values = df.isnull().sum()\n",
    "print(\"Missing Values:\")\n",
    "print(\"\\t\")\n",
    "print(missing_values)"
   ]
  },
  {
   "cell_type": "code",
   "execution_count": 42,
   "id": "f923d4ba-1dd4-4dff-ab21-633d750b78e5",
   "metadata": {},
   "outputs": [],
   "source": [
    "# Handling missing values : Fill the missing values with mean(For numerical columns)\n",
    "df['Electric Range'].fillna(df['Electric Range'].mean(), inplace=True)\n",
    "df['Base MSRP'].fillna(df['Base MSRP'].mean(), inplace=True)\n",
    "df['Postal Code'].fillna(df['Postal Code'].mean(), inplace=True)\n",
    "df['2020 Census Tract'].fillna(df['2020 Census Tract'].mean(), inplace=True)"
   ]
  },
  {
   "cell_type": "code",
   "execution_count": 43,
   "id": "e131e3d5-62d2-4521-856d-30baaa209707",
   "metadata": {},
   "outputs": [],
   "source": [
    "# Fill the missing values with mode(For categorical columns )\n",
    "df['County'].fillna(df['County'].mode()[0], inplace=True)\n",
    "df['City'].fillna(df['City'].mode()[0], inplace=True)\n",
    "df['State'].fillna(df['State'].mode()[0], inplace=True)\n",
    "df['Vehicle Location'].fillna(df['Vehicle Location'].mode()[0], inplace=True)\n",
    "df['Electric Utility'].fillna(df['Electric Utility'].mode()[0], inplace=True)\n",
    "df['Legislative District'].fillna(df['Legislative District'].mode()[0], inplace=True)"
   ]
  },
  {
   "cell_type": "code",
   "execution_count": 44,
   "id": "8aeefd6b-3024-4ce0-aeab-a60d094598e5",
   "metadata": {},
   "outputs": [
    {
     "name": "stdout",
     "output_type": "stream",
     "text": [
      "Missing Values after Imputation:\n",
      "VIN (1-10)                                           0\n",
      "County                                               0\n",
      "City                                                 0\n",
      "State                                                0\n",
      "Postal Code                                          0\n",
      "Model Year                                           0\n",
      "Make                                                 0\n",
      "Model                                                0\n",
      "Electric Vehicle Type                                0\n",
      "Clean Alternative Fuel Vehicle (CAFV) Eligibility    0\n",
      "Electric Range                                       0\n",
      "Base MSRP                                            0\n",
      "Legislative District                                 0\n",
      "DOL Vehicle ID                                       0\n",
      "Vehicle Location                                     0\n",
      "Electric Utility                                     0\n",
      "2020 Census Tract                                    0\n",
      "dtype: int64\n"
     ]
    }
   ],
   "source": [
    "# Checking for the null values after imputation\n",
    "missing_values = df.isnull().sum()\n",
    "print(\"Missing Values after Imputation:\")\n",
    "print(missing_values)"
   ]
  },
  {
   "cell_type": "code",
   "execution_count": 21,
   "id": "61d04293-653f-43a2-9cce-1e7fc2133c63",
   "metadata": {},
   "outputs": [
    {
     "name": "stdout",
     "output_type": "stream",
     "text": [
      "\t\n",
      "Total number of duplicate values is : 0\n"
     ]
    }
   ],
   "source": [
    "# Checking for duplicates\n",
    "print(\"\\t\")\n",
    "print(f\"Total number of duplicate values is : {df.duplicated().sum()}\")"
   ]
  },
  {
   "cell_type": "code",
   "execution_count": null,
   "id": "53c3c7d6-05fa-4f5c-a9ba-944d4678e99c",
   "metadata": {},
   "outputs": [],
   "source": []
  }
 ],
 "metadata": {
  "kernelspec": {
   "display_name": "Python 3 (ipykernel)",
   "language": "python",
   "name": "python3"
  },
  "language_info": {
   "codemirror_mode": {
    "name": "ipython",
    "version": 3
   },
   "file_extension": ".py",
   "mimetype": "text/x-python",
   "name": "python",
   "nbconvert_exporter": "python",
   "pygments_lexer": "ipython3",
   "version": "3.12.7"
  }
 },
 "nbformat": 4,
 "nbformat_minor": 5
}
